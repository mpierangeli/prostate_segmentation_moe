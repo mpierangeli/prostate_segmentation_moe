{
 "cells": [
  {
   "cell_type": "code",
   "execution_count": 13,
   "metadata": {},
   "outputs": [
    {
     "name": "stdout",
     "output_type": "stream",
     "text": [
      "Folder created: modelsh5\n"
     ]
    },
    {
     "name": "stderr",
     "output_type": "stream",
     "text": [
      "Downloading...\n",
      "From (original): https://drive.google.com/uc?id=1bNIWg5OOhCMMY2e-0K-JVgKxzcj1LUbM\n",
      "From (redirected): https://drive.google.com/uc?id=1bNIWg5OOhCMMY2e-0K-JVgKxzcj1LUbM&confirm=t&uuid=788eed78-9e01-470c-9068-babbbc4a234e\n",
      "To: c:\\Users\\Pier\\Documents\\GitHub\\prostate_segmentation_moe\\modelsh5\\attunet_final.h5\n",
      "100%|██████████| 148M/148M [00:03<00:00, 37.4MB/s] \n",
      "Downloading...\n",
      "From (original): https://drive.google.com/uc?id=1fiLNAW70bwqRGB0t_QjmVEYXjRFIPrZe\n",
      "From (redirected): https://drive.google.com/uc?id=1fiLNAW70bwqRGB0t_QjmVEYXjRFIPrZe&confirm=t&uuid=7f62da01-e44f-4583-9773-f508c9c52149\n",
      "To: c:\\Users\\Pier\\Documents\\GitHub\\prostate_segmentation_moe\\modelsh5\\classicunet_final.h5\n",
      "100%|██████████| 124M/124M [00:03<00:00, 36.9MB/s] \n",
      "Downloading...\n",
      "From: https://drive.google.com/uc?id=1r0ektmVG2UBhuiNNWYc_mL_b8iiVERdo\n",
      "To: c:\\Users\\Pier\\Documents\\GitHub\\prostate_segmentation_moe\\modelsh5\\sunet_final.h5\n",
      "100%|██████████| 31.3M/31.3M [00:00<00:00, 32.9MB/s]\n",
      "Downloading...\n",
      "From (original): https://drive.google.com/uc?id=1bWcbIhaDlWSmJyN7XERiQ7mD-RTEUCCE\n",
      "From (redirected): https://drive.google.com/uc?id=1bWcbIhaDlWSmJyN7XERiQ7mD-RTEUCCE&confirm=t&uuid=f4e23116-c8fb-45b2-b198-9584debb409b\n",
      "To: c:\\Users\\Pier\\Documents\\GitHub\\prostate_segmentation_moe\\modelsh5\\unet3_final.h5\n",
      "100%|██████████| 111M/111M [00:04<00:00, 23.0MB/s] "
     ]
    },
    {
     "name": "stdout",
     "output_type": "stream",
     "text": [
      "Done\n"
     ]
    },
    {
     "name": "stderr",
     "output_type": "stream",
     "text": [
      "\n"
     ]
    }
   ],
   "source": [
    "import gdown\n",
    "import os\n",
    "\n",
    "\n",
    "def model_downloader():\n",
    "    \n",
    "    try:\n",
    "        os.makedirs(\"modelsh5\")\n",
    "        print(f\"Folder created: modelsh5\")\n",
    "    except FileExistsError:\n",
    "        print(f\"Folder already exists: modelsh5\")\n",
    "    \n",
    "    pf = os.path.join(os.getcwd(),\"modelsh5\")\n",
    "\n",
    "    gdown.download(\"https://drive.google.com/file/d/1bNIWg5OOhCMMY2e-0K-JVgKxzcj1LUbM/view?usp=sharing\", os.path.join(pf,\"attunet_final.h5\"), quiet=False,fuzzy=True)\n",
    "    gdown.download(\"https://drive.google.com/file/d/1fiLNAW70bwqRGB0t_QjmVEYXjRFIPrZe/view?usp=sharing\", os.path.join(pf,\"classicunet_final.h5\"), quiet=False,fuzzy=True)\n",
    "    gdown.download(\"https://drive.google.com/file/d/1r0ektmVG2UBhuiNNWYc_mL_b8iiVERdo/view?usp=sharing\", os.path.join(pf,\"sunet_final.h5\"), quiet=False,fuzzy=True)\n",
    "    gdown.download(\"https://drive.google.com/file/d/1bWcbIhaDlWSmJyN7XERiQ7mD-RTEUCCE/view?usp=sharing\", os.path.join(pf,\"unet3_final.h5\"), quiet=False,fuzzy=True)\n",
    "    \n",
    "    print(\"Done\")\n",
    "\n",
    "    return\n",
    "\n",
    "model_downloader()"
   ]
  },
  {
   "cell_type": "code",
   "execution_count": 5,
   "metadata": {},
   "outputs": [
    {
     "name": "stdout",
     "output_type": "stream",
     "text": [
      "c:\\Users\\Pier\\AppData\\Local\\Programs\\Python\\Python38\n"
     ]
    }
   ],
   "source": [
    "import sys\n",
    "print(sys.prefix)"
   ]
  }
 ],
 "metadata": {
  "kernelspec": {
   "display_name": "Python 3",
   "language": "python",
   "name": "python3"
  },
  "language_info": {
   "codemirror_mode": {
    "name": "ipython",
    "version": 3
   },
   "file_extension": ".py",
   "mimetype": "text/x-python",
   "name": "python",
   "nbconvert_exporter": "python",
   "pygments_lexer": "ipython3",
   "version": "3.8.0"
  }
 },
 "nbformat": 4,
 "nbformat_minor": 2
}
